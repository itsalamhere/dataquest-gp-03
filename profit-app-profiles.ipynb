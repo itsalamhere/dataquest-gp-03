{
 "cells": [
  {
   "cell_type": "markdown",
   "metadata": {},
   "source": [
    "# Data Analysis: Apps that Attract More Users\n",
    "On this program we analyze the data of free apps in Android and iOS mobile apps to determine what kind of apps that attracts more users. We generate revenues from the in-app ads which doesn't cost much compared to in-app premium subscriptions, so by knowing this we can target which app to engage more at--the more users, the better."
   ]
  },
  {
   "cell_type": "markdown",
   "metadata": {},
   "source": [
    "## Data Extraction"
   ]
  },
  {
   "cell_type": "markdown",
   "metadata": {},
   "source": [
    "To make things more efficient, we're adding several functions:\n",
    "\n",
    "**Function 1:** `extract_data(filename, header=True)`\n",
    "-- Extract the data from a file\n",
    "-- If there's not a header, put an additional argument `False`\n",
    "   to clean the first row. e.g. `extract_data(iOS, False)`\n",
    "   \n",
    "^ This case would be great for opening a customized file.\n",
    "But Because we're only dealing with 2, I'll make one for each instead.\n",
    "Also, we need the header to fact-check for data cleaning.\n",
    "   \n",
    "**Function 2:** `explore_data(dataset, start, end, rows_and_columns = False)`\n",
    " -- Slice a segment of the data on a file from index `start` to `end`.\n",
    " -- If you need to know how many rows and columns are there,\n",
    "    add an additional argument `True` to print both lengths.\n",
    "    e.g.`explore_data(fileAndroid, 0, 3, True)`"
   ]
  },
  {
   "cell_type": "code",
   "execution_count": 1,
   "metadata": {},
   "outputs": [],
   "source": [
    "## FUNCTION 1 ## def extract_data(filename, header=True):\n",
    "\n",
    "from csv import reader\n",
    "\n",
    "open_android = open('googleplaystore.csv')\n",
    "\n",
    "read_android = reader(open_android)\n",
    "data_android = list(read_android)\n",
    "\n",
    "header_android = data_android[0]\n",
    "data_android = data_android[1:]\n",
    "\n",
    "open_ios = open('AppleStore.csv')\n",
    "\n",
    "read_ios = reader(open_ios)\n",
    "data_ios = list(read_ios)\n",
    "\n",
    "header_ios = data_ios[0]\n",
    "data_ios   = data_ios[1:]\n",
    "\n",
    "## FUNCTION 2\n",
    "\n",
    "def explore_data(dataset, start, end, rows_and_columns = False):\n",
    "    dataset_slice    = dataset[start:end]\n",
    "    for row in dataset_slice:\n",
    "        print(row)\n",
    "        print('\\n') # adds a new (empty) line after each row\n",
    "    \n",
    "    if rows_and_columns:\n",
    "        print('Number of rows:', len(dataset))\n",
    "        print('Number of columns:', len(dataset[0]))"
   ]
  },
  {
   "cell_type": "markdown",
   "metadata": {},
   "source": [
    "Extract both data `googleplaystore.csv` and `AppleStore.csv`, and then extract several rows of them. You're gonna notice that each file have different formats. For instance, the `genre` in `googleplaystore.csv` is in index [1], meanwhile `AppleStore.csv` is in index [11]. Here's the link of both files: [googleplaystore.csv](https://dq-content.s3.amazonaws.com/350/googleplaystore.csv) & [AppleStore.csv](https://dq-content.s3.amazonaws.com/350/AppleStore.csv)"
   ]
  },
  {
   "cell_type": "code",
   "execution_count": 2,
   "metadata": {},
   "outputs": [
    {
     "name": "stdout",
     "output_type": "stream",
     "text": [
      "['Photo Editor & Candy Camera & Grid & ScrapBook', 'ART_AND_DESIGN', '4.1', '159', '19M', '10,000+', 'Free', '0', 'Everyone', 'Art & Design', 'January 7, 2018', '1.0.0', '4.0.3 and up']\n",
      "\n",
      "\n",
      "['Coloring book moana', 'ART_AND_DESIGN', '3.9', '967', '14M', '500,000+', 'Free', '0', 'Everyone', 'Art & Design;Pretend Play', 'January 15, 2018', '2.0.0', '4.0.3 and up']\n",
      "\n",
      "\n",
      "['U Launcher Lite – FREE Live Cool Themes, Hide Apps', 'ART_AND_DESIGN', '4.7', '87510', '8.7M', '5,000,000+', 'Free', '0', 'Everyone', 'Art & Design', 'August 1, 2018', '1.2.4', '4.0.3 and up']\n",
      "\n",
      "\n",
      "['284882215', 'Facebook', '389879808', 'USD', '0.0', '2974676', '212', '3.5', '3.5', '95.0', '4+', 'Social Networking', '37', '1', '29', '1']\n",
      "\n",
      "\n",
      "['389801252', 'Instagram', '113954816', 'USD', '0.0', '2161558', '1289', '4.5', '4.0', '10.23', '12+', 'Photo & Video', '37', '0', '29', '1']\n",
      "\n",
      "\n",
      "['529479190', 'Clash of Clans', '116476928', 'USD', '0.0', '2130805', '579', '4.5', '4.5', '9.24.12', '9+', 'Games', '38', '5', '18', '1']\n",
      "\n",
      "\n"
     ]
    }
   ],
   "source": [
    "explore_data(data_android, 0, 3)\n",
    "explore_data(data_ios, 0, 3)"
   ]
  },
  {
   "cell_type": "markdown",
   "metadata": {},
   "source": [
    "## Data Cleaning (80%)"
   ]
  },
  {
   "cell_type": "markdown",
   "metadata": {},
   "source": [
    "In both data there may be several wrong data that's not relevant, such as non-English apps or apps that aren't free. And by that, here we're doing **data cleaning**, a process that mostly takes 80% of the analysis.\n",
    "\n",
    "On the [discussion], there's a missing rating on index 10472. This makes the data invalid, and we can delete it with `del`."
   ]
  },
  {
   "cell_type": "code",
   "execution_count": 3,
   "metadata": {},
   "outputs": [
    {
     "name": "stdout",
     "output_type": "stream",
     "text": [
      "['Life Made WI-Fi Touchscreen Photo Frame', '1.9', '19', '3.0M', '1,000+', 'Free', '0', 'Everyone', '', 'February 11, 2018', '1.0.19', '4.0 and up'] \n",
      "\n",
      "['App', 'Category', 'Rating', 'Reviews', 'Size', 'Installs', 'Type', 'Price', 'Content Rating', 'Genres', 'Last Updated', 'Current Ver', 'Android Ver'] \n",
      "\n",
      "['Photo Editor & Candy Camera & Grid & ScrapBook', 'ART_AND_DESIGN', '4.1', '159', '19M', '10,000+', 'Free', '0', 'Everyone', 'Art & Design', 'January 7, 2018', '1.0.0', '4.0.3 and up'] \n",
      "\n"
     ]
    }
   ],
   "source": [
    "## PROCESS: Cleaning data\n",
    "\n",
    "print(data_android[10472], '\\n')\n",
    "print(header_android, '\\n')\n",
    "print(data_android[0], '\\n')"
   ]
  },
  {
   "cell_type": "markdown",
   "metadata": {},
   "source": [
    "And by that we can delete the entry, and then check the length (`len`) to make sure it's deleted."
   ]
  },
  {
   "cell_type": "code",
   "execution_count": 4,
   "metadata": {},
   "outputs": [
    {
     "name": "stdout",
     "output_type": "stream",
     "text": [
      "10841\n",
      "10840\n"
     ]
    }
   ],
   "source": [
    "print(len(data_android))\n",
    "\n",
    "del data_android[10472]\n",
    "\n",
    "print(len(data_android))"
   ]
  },
  {
   "cell_type": "markdown",
   "metadata": {},
   "source": [
    "And then, if you notice, there are several duplicates of app data. For instance Instagram (look at the left screen), which have the different number of reviews implying it's collected at different times. And by that we need to separate the `unique_apps` and `duplicate_apps`. "
   ]
  },
  {
   "cell_type": "markdown",
   "metadata": {},
   "source": [
    "But we won't delete the duplicates easily. We'll go onto it in a moment. We'll need to collect the duplicates first. "
   ]
  },
  {
   "cell_type": "code",
   "execution_count": 5,
   "metadata": {},
   "outputs": [
    {
     "name": "stdout",
     "output_type": "stream",
     "text": [
      "Number of duplicate apps: 1181 \n",
      "\n",
      "Examples of duplicate apps: ['Quick PDF Scanner + OCR FREE', 'Box', 'Google My Business', 'ZOOM Cloud Meetings', 'join.me - Simple Meetings', 'Box', 'Zenefits', 'Google Ads', 'Google My Business', 'Slack'] \n",
      "\n"
     ]
    }
   ],
   "source": [
    "duplicate_apps = []\n",
    "unique_apps    = []\n",
    "\n",
    "for app in data_android:\n",
    "    name    = app[0]\n",
    "    if name in unique_apps:    # Yes, you can type it this way.\n",
    "        duplicate_apps.append(name)\n",
    "    else:\n",
    "        unique_apps.append(name)\n",
    "        \n",
    "print('Number of duplicate apps:', len(duplicate_apps), '\\n')\n",
    "print('Examples of duplicate apps:', duplicate_apps[:10], '\\n')"
   ]
  },
  {
   "cell_type": "markdown",
   "metadata": {},
   "source": [
    "We have a criteria to choose the relevant duplicate. In this case, the apps are taken in different times with different number of reviews. And by that, we choose the highest one since it implies the most recent data."
   ]
  },
  {
   "cell_type": "markdown",
   "metadata": {},
   "source": [
    "In order to do that, we can do procedures below."
   ]
  },
  {
   "cell_type": "markdown",
   "metadata": {},
   "source": [
    "* Create a dictionary with each key is a unique app name and the value is the highest number of that app's reviews.\n",
    "* Define the name `name` and number of reviews `n_reviews`, and compare the data.\n",
    "    * If the name is in `dict reviews_max` and the number of reviews is the largest (meaning smaller than current data in the dictionary), save the largest value in dict.\n",
    "    * If the name is not in `dict reviews_max`, add it."
   ]
  },
  {
   "cell_type": "code",
   "execution_count": 6,
   "metadata": {},
   "outputs": [],
   "source": [
    "reviews_max = {}\n",
    "\n",
    "for app in data_android:\n",
    "    name       = app[0]\n",
    "    n_reviews  = float(app[3])\n",
    "    \n",
    "    if (name in reviews_max) and (reviews_max[name] < n_reviews):\n",
    "        reviews_max[name] = n_reviews\n",
    "        \n",
    "    elif (name not in reviews_max):\n",
    "        reviews_max[name] = n_reviews"
   ]
  },
  {
   "cell_type": "markdown",
   "metadata": {},
   "source": [
    "* Make two empty list:\n",
    "    * `android_clean` to collect the clean data, and\n",
    "    * `already_added` as a backtrack if the data has been added.\n",
    "* Iterate each app, define the `name` and `n_reviews`, and put the data in both lists if the `n_reviews` is the same as in `dict reviews` and the app hasn't been added yet."
   ]
  },
  {
   "cell_type": "code",
   "execution_count": 7,
   "metadata": {},
   "outputs": [],
   "source": [
    "android_clean = []\n",
    "already_added = []\n",
    "\n",
    "for app in data_android:\n",
    "    name       = app[0]\n",
    "    n_reviews  = float(app[3])\n",
    "    \n",
    "    if (reviews_max[name] == n_reviews) and (name not in already_added):\n",
    "        android_clean.append(app)      # Add the APP,\n",
    "        already_added.append(name)     # and put the NAME. "
   ]
  },
  {
   "cell_type": "markdown",
   "metadata": {},
   "source": [
    "Let's compared the expected length and the clean data, shall we?"
   ]
  },
  {
   "cell_type": "code",
   "execution_count": 8,
   "metadata": {},
   "outputs": [
    {
     "name": "stdout",
     "output_type": "stream",
     "text": [
      "Expected length: 9659\n",
      "Data clean length: 9659\n"
     ]
    }
   ],
   "source": [
    "print('Expected length:', len(data_android) - len(duplicate_apps))\n",
    "print('Data clean length:', len(android_clean))"
   ]
  },
  {
   "cell_type": "markdown",
   "metadata": {},
   "source": [
    "^ It's the same! *yeaayy!* 🙌"
   ]
  },
  {
   "cell_type": "markdown",
   "metadata": {},
   "source": [
    "Now we've done the first step. But there's still non-English apps laying in the data. How do we clean those? All we need to know, fortunately, each character in the app are named based on ASCII system. And the alphabet we're writing at in English is categorized at a value 0-127, meanwhile non-English characters are categorized at a value more than that."
   ]
  },
  {
   "cell_type": "code",
   "execution_count": 9,
   "metadata": {},
   "outputs": [
    {
     "name": "stdout",
     "output_type": "stream",
     "text": [
      "True\n",
      "False\n",
      "True\n",
      "True\n"
     ]
    }
   ],
   "source": [
    "def is_english(string):\n",
    "    non_ascii = 0      # Define the number of non-ASCII characters,\n",
    "    \n",
    "    for character in string:\n",
    "        if ord(character) > 127:\n",
    "            non_ascii += 1       # Add one if there's one in the string,\n",
    "\n",
    "    if non_ascii > 3:            # And return the `bool`  \n",
    "        return False             # based on the requirements\n",
    "    else:\n",
    "        return True\n",
    "\n",
    "print(is_english('Instagram'))\n",
    "print(is_english('爱奇艺PPS -《欢乐颂2》电视剧热播'))\n",
    "print(is_english('Docs To Go™ Free Office Suite'))\n",
    "print(is_english('Instachat 😜'))"
   ]
  },
  {
   "cell_type": "markdown",
   "metadata": {},
   "source": [
    "In the above program, you may notice the last two data are having an ASCII character more than 127, which is the 'TM' and the emoji. Some apps may have that, and if we eliminate all data with at least 1 >127 ASCII value, it'll have a lot of data loss. Therefore, we made a rule to eliminate the app IF there are >3 non-ASCII characters, as corrected starting with the comment (#) above."
   ]
  },
  {
   "cell_type": "markdown",
   "metadata": {},
   "source": [
    "It's not a prefect procedure to bash all the non-English apps, but hey it's pretty good 😁 Now we clean both data one more time to all English apps."
   ]
  },
  {
   "cell_type": "code",
   "execution_count": 10,
   "metadata": {},
   "outputs": [
    {
     "name": "stdout",
     "output_type": "stream",
     "text": [
      "9614\n",
      "7197\n"
     ]
    }
   ],
   "source": [
    "android_english = []\n",
    "ios_english     = []\n",
    "\n",
    "for app in android_clean:\n",
    "    name    = app[0]\n",
    "    \n",
    "    if is_english(name):\n",
    "        android_english.append(app)\n",
    "        # If you want to add all the data,\n",
    "        # add the app. Not just the name,\n",
    "        \n",
    "for app in data_ios:\n",
    "    name    = app[0]\n",
    "    \n",
    "    if is_english(name):\n",
    "        ios_english.append(app)\n",
    "        # idem.\n",
    "        \n",
    "print(len(android_english))\n",
    "print(len(ios_english))\n",
    "    "
   ]
  },
  {
   "cell_type": "markdown",
   "metadata": {},
   "source": [
    "Last but not least, we're isolating the free apps since that's the data we want to analyze. We do that by typing the program below."
   ]
  },
  {
   "cell_type": "code",
   "execution_count": 11,
   "metadata": {},
   "outputs": [
    {
     "name": "stdout",
     "output_type": "stream",
     "text": [
      "8864\n",
      "4056\n"
     ]
    }
   ],
   "source": [
    "android_free   = []\n",
    "ios_free       = []\n",
    "\n",
    "for app in android_english:\n",
    "    price    = app[7]         # Define the price\n",
    "    \n",
    "    if price == '0':          # If it's free..\n",
    "        android_free.append(app)   # add the *app*, not the name.\n",
    "\n",
    "for app in ios_english:\n",
    "    price    = app[4]\n",
    "    \n",
    "    if price == '0.0':\n",
    "        ios_free.append(app)\n",
    "\n",
    "print(len(android_free))\n",
    "print(len(ios_free))\n",
    "    "
   ]
  },
  {
   "cell_type": "markdown",
   "metadata": {},
   "source": [
    "Now we've isolated the apps, we can analyze the data further!"
   ]
  },
  {
   "cell_type": "markdown",
   "metadata": {},
   "source": [
    "## Data Analysis"
   ]
  },
  {
   "cell_type": "markdown",
   "metadata": {},
   "source": [
    "Our goal is to determine the kinds of apps that are likely to attract more users becuase the number of people using our apps affect our revenue."
   ]
  },
  {
   "cell_type": "markdown",
   "metadata": {},
   "source": [
    "To minimize risks and overhead, our validation strategy for an app idea has three steps:\n",
    "1. Build a minimal Android version of the app, and add it to Google Play,\n",
    "2. If the app has a good response from users, we develop it further,\n",
    "3. If the app is profitable after six months, we build an iOS version of the app and add it to the App Store."
   ]
  },
  {
   "cell_type": "markdown",
   "metadata": {},
   "source": [
    "We can make two functions to make things easier:\n",
    "* One to make a frequency table in percentages\n",
    "* Another to display sorted descending result of app genres"
   ]
  },
  {
   "cell_type": "code",
   "execution_count": 12,
   "metadata": {},
   "outputs": [],
   "source": [
    "## FUNCTION 1\n",
    "def freq_table(dataset, index):\n",
    "    \n",
    "    table    = {}\n",
    "    total    = 0\n",
    "    \n",
    "    for row in dataset:\n",
    "        total  += 1\n",
    "        data    = row[index]\n",
    "        \n",
    "        if data in table:\n",
    "            table[data] += 1\n",
    "        else:\n",
    "            table[data] = 1\n",
    "            \n",
    "    table_percent = {}\n",
    "    \n",
    "    for key in table:\n",
    "        percentage = (table[key] / total) * 100\n",
    "        table_percent[key] = percentage\n",
    "        \n",
    "    return table_percent"
   ]
  },
  {
   "cell_type": "code",
   "execution_count": 13,
   "metadata": {},
   "outputs": [],
   "source": [
    "def display_table(dataset, index):\n",
    "    \n",
    "    ## Use the previous function:\n",
    "    table         = freq_table(dataset, index)\n",
    "    table_display = []\n",
    "    \n",
    "    for key in table: # Table is `dict`\n",
    "        # We want to change the `dict` type to list of tuples:\n",
    "        key_val_as_tuple    = (table[key], key)\n",
    "        # And then add it to the list of `table_display`:\n",
    "        table_display.append(key_val_as_tuple)\n",
    "        \n",
    "    # After that, we sort it by the key value in descending order\n",
    "    # with a built-in function called `sorted()`:\n",
    "    table_sorted   = sorted(table_display, reverse=True)\n",
    "    # We do this since the sorted function can be used only for list (?)\n",
    "    \n",
    "    # QUESTION: Why does key_val_as_tuple formatted as (table[key], key) ?\n",
    "    #   I think it's because we wanna sort the first value, and\n",
    "    #   by that we prioritize the value `table[key]` first. ✅\n",
    "    \n",
    "    for entry in table_sorted:\n",
    "        print(entry[1], ':', entry[0])"
   ]
  },
  {
   "cell_type": "code",
   "execution_count": 14,
   "metadata": {},
   "outputs": [
    {
     "name": "stdout",
     "output_type": "stream",
     "text": [
      "Games : 55.64595660749507\n",
      "Entertainment : 8.234714003944774\n",
      "Photo & Video : 4.117357001972387\n",
      "Social Networking : 3.5256410256410255\n",
      "Education : 3.2544378698224854\n",
      "Shopping : 2.983234714003945\n",
      "Utilities : 2.687376725838264\n",
      "Lifestyle : 2.3175542406311638\n",
      "Finance : 2.0710059171597637\n",
      "Sports : 1.947731755424063\n",
      "Health & Fitness : 1.8737672583826428\n",
      "Music : 1.6518737672583828\n",
      "Book : 1.6272189349112427\n",
      "Productivity : 1.5285996055226825\n",
      "News : 1.4299802761341223\n",
      "Travel : 1.3806706114398422\n",
      "Food & Drink : 1.0601577909270217\n",
      "Weather : 0.7642998027613412\n",
      "Reference : 0.4930966469428008\n",
      "Navigation : 0.4930966469428008\n",
      "Business : 0.4930966469428008\n",
      "Catalogs : 0.22189349112426035\n",
      "Medical : 0.19723865877712032\n"
     ]
    }
   ],
   "source": [
    "display_table(ios_free, -5)"
   ]
  },
  {
   "cell_type": "code",
   "execution_count": 15,
   "metadata": {},
   "outputs": [
    {
     "name": "stdout",
     "output_type": "stream",
     "text": [
      "Tools : 8.449909747292418\n",
      "Entertainment : 6.069494584837545\n",
      "Education : 5.347472924187725\n",
      "Business : 4.591606498194946\n",
      "Productivity : 3.892148014440433\n",
      "Lifestyle : 3.892148014440433\n",
      "Finance : 3.7003610108303246\n",
      "Medical : 3.531137184115524\n",
      "Sports : 3.463447653429603\n",
      "Personalization : 3.3167870036101084\n",
      "Communication : 3.2378158844765346\n",
      "Action : 3.1024368231046933\n",
      "Health & Fitness : 3.0798736462093865\n",
      "Photography : 2.944494584837545\n",
      "News & Magazines : 2.7978339350180503\n",
      "Social : 2.6624548736462095\n",
      "Travel & Local : 2.3240072202166067\n",
      "Shopping : 2.2450361010830324\n",
      "Books & Reference : 2.1435018050541514\n",
      "Simulation : 2.0419675090252705\n",
      "Dating : 1.861462093862816\n",
      "Arcade : 1.8501805054151623\n",
      "Video Players & Editors : 1.7712093862815883\n",
      "Casual : 1.7599277978339352\n",
      "Maps & Navigation : 1.3989169675090252\n",
      "Food & Drink : 1.2409747292418771\n",
      "Puzzle : 1.128158844765343\n",
      "Racing : 0.9927797833935018\n",
      "Role Playing : 0.9363718411552346\n",
      "Libraries & Demo : 0.9363718411552346\n",
      "Auto & Vehicles : 0.9250902527075812\n",
      "Strategy : 0.9138086642599278\n",
      "House & Home : 0.8235559566787004\n",
      "Weather : 0.8009927797833934\n",
      "Events : 0.7107400722021661\n",
      "Adventure : 0.6768953068592057\n",
      "Comics : 0.6092057761732852\n",
      "Beauty : 0.5979241877256317\n",
      "Art & Design : 0.5979241877256317\n",
      "Parenting : 0.4963898916967509\n",
      "Card : 0.45126353790613716\n",
      "Casino : 0.42870036101083037\n",
      "Trivia : 0.41741877256317694\n",
      "Educational;Education : 0.39485559566787\n",
      "Board : 0.3835740072202166\n",
      "Educational : 0.3722924187725632\n",
      "Education;Education : 0.33844765342960287\n",
      "Word : 0.2594765342960289\n",
      "Casual;Pretend Play : 0.236913357400722\n",
      "Music : 0.2030685920577617\n",
      "Racing;Action & Adventure : 0.16922382671480143\n",
      "Puzzle;Brain Games : 0.16922382671480143\n",
      "Entertainment;Music & Video : 0.16922382671480143\n",
      "Casual;Brain Games : 0.13537906137184114\n",
      "Casual;Action & Adventure : 0.13537906137184114\n",
      "Arcade;Action & Adventure : 0.12409747292418773\n",
      "Action;Action & Adventure : 0.10153429602888085\n",
      "Educational;Pretend Play : 0.09025270758122744\n",
      "Simulation;Action & Adventure : 0.078971119133574\n",
      "Parenting;Education : 0.078971119133574\n",
      "Entertainment;Brain Games : 0.078971119133574\n",
      "Board;Brain Games : 0.078971119133574\n",
      "Parenting;Music & Video : 0.06768953068592057\n",
      "Educational;Brain Games : 0.06768953068592057\n",
      "Casual;Creativity : 0.06768953068592057\n",
      "Art & Design;Creativity : 0.06768953068592057\n",
      "Education;Pretend Play : 0.056407942238267145\n",
      "Role Playing;Pretend Play : 0.04512635379061372\n",
      "Education;Creativity : 0.04512635379061372\n",
      "Role Playing;Action & Adventure : 0.033844765342960284\n",
      "Puzzle;Action & Adventure : 0.033844765342960284\n",
      "Entertainment;Creativity : 0.033844765342960284\n",
      "Entertainment;Action & Adventure : 0.033844765342960284\n",
      "Educational;Creativity : 0.033844765342960284\n",
      "Educational;Action & Adventure : 0.033844765342960284\n",
      "Education;Music & Video : 0.033844765342960284\n",
      "Education;Brain Games : 0.033844765342960284\n",
      "Education;Action & Adventure : 0.033844765342960284\n",
      "Adventure;Action & Adventure : 0.033844765342960284\n",
      "Video Players & Editors;Music & Video : 0.02256317689530686\n",
      "Sports;Action & Adventure : 0.02256317689530686\n",
      "Simulation;Pretend Play : 0.02256317689530686\n",
      "Puzzle;Creativity : 0.02256317689530686\n",
      "Music;Music & Video : 0.02256317689530686\n",
      "Entertainment;Pretend Play : 0.02256317689530686\n",
      "Casual;Education : 0.02256317689530686\n",
      "Board;Action & Adventure : 0.02256317689530686\n",
      "Video Players & Editors;Creativity : 0.01128158844765343\n",
      "Trivia;Education : 0.01128158844765343\n",
      "Travel & Local;Action & Adventure : 0.01128158844765343\n",
      "Tools;Education : 0.01128158844765343\n",
      "Strategy;Education : 0.01128158844765343\n",
      "Strategy;Creativity : 0.01128158844765343\n",
      "Strategy;Action & Adventure : 0.01128158844765343\n",
      "Simulation;Education : 0.01128158844765343\n",
      "Role Playing;Brain Games : 0.01128158844765343\n",
      "Racing;Pretend Play : 0.01128158844765343\n",
      "Puzzle;Education : 0.01128158844765343\n",
      "Parenting;Brain Games : 0.01128158844765343\n",
      "Music & Audio;Music & Video : 0.01128158844765343\n",
      "Lifestyle;Pretend Play : 0.01128158844765343\n",
      "Lifestyle;Education : 0.01128158844765343\n",
      "Health & Fitness;Education : 0.01128158844765343\n",
      "Health & Fitness;Action & Adventure : 0.01128158844765343\n",
      "Entertainment;Education : 0.01128158844765343\n",
      "Communication;Creativity : 0.01128158844765343\n",
      "Comics;Creativity : 0.01128158844765343\n",
      "Casual;Music & Video : 0.01128158844765343\n",
      "Card;Action & Adventure : 0.01128158844765343\n",
      "Books & Reference;Education : 0.01128158844765343\n",
      "Art & Design;Pretend Play : 0.01128158844765343\n",
      "Art & Design;Action & Adventure : 0.01128158844765343\n",
      "Arcade;Pretend Play : 0.01128158844765343\n",
      "Adventure;Education : 0.01128158844765343\n"
     ]
    }
   ],
   "source": [
    "display_table(android_free, -4)"
   ]
  },
  {
   "cell_type": "markdown",
   "metadata": {},
   "source": [
    "After proceeding with the `display_table` function, we can see what genre has the most app built in both stores:\n",
    "\n",
    "* In `ios_free`, it's `Games`: 55,65%, `Entertainment` : 8.24%, `Photo & Video` : 4.12%, and `Social Networking` : 3.53%.\n",
    "* In `android_free`, it's `Tools` with 8,45%.\n",
    "\n",
    "This implies that most genre in iOS tend to be for entertainment, and most genres in Android "
   ]
  },
  {
   "cell_type": "code",
   "execution_count": 17,
   "metadata": {},
   "outputs": [
    {
     "name": "stdout",
     "output_type": "stream",
     "text": [
      "FAMILY : 18.907942238267147\n",
      "GAME : 9.724729241877256\n",
      "TOOLS : 8.461191335740072\n",
      "BUSINESS : 4.591606498194946\n",
      "LIFESTYLE : 3.9034296028880866\n",
      "PRODUCTIVITY : 3.892148014440433\n",
      "FINANCE : 3.7003610108303246\n",
      "MEDICAL : 3.531137184115524\n",
      "SPORTS : 3.395758122743682\n",
      "PERSONALIZATION : 3.3167870036101084\n",
      "COMMUNICATION : 3.2378158844765346\n",
      "HEALTH_AND_FITNESS : 3.0798736462093865\n",
      "PHOTOGRAPHY : 2.944494584837545\n",
      "NEWS_AND_MAGAZINES : 2.7978339350180503\n",
      "SOCIAL : 2.6624548736462095\n",
      "TRAVEL_AND_LOCAL : 2.33528880866426\n",
      "SHOPPING : 2.2450361010830324\n",
      "BOOKS_AND_REFERENCE : 2.1435018050541514\n",
      "DATING : 1.861462093862816\n",
      "VIDEO_PLAYERS : 1.7937725631768955\n",
      "MAPS_AND_NAVIGATION : 1.3989169675090252\n",
      "FOOD_AND_DRINK : 1.2409747292418771\n",
      "EDUCATION : 1.1620036101083033\n",
      "ENTERTAINMENT : 0.9589350180505415\n",
      "LIBRARIES_AND_DEMO : 0.9363718411552346\n",
      "AUTO_AND_VEHICLES : 0.9250902527075812\n",
      "HOUSE_AND_HOME : 0.8235559566787004\n",
      "WEATHER : 0.8009927797833934\n",
      "EVENTS : 0.7107400722021661\n",
      "PARENTING : 0.6543321299638989\n",
      "ART_AND_DESIGN : 0.6430505415162455\n",
      "COMICS : 0.6204873646209386\n",
      "BEAUTY : 0.5979241877256317\n"
     ]
    }
   ],
   "source": [
    "display_table(android_free, 1)"
   ]
  },
  {
   "cell_type": "markdown",
   "metadata": {},
   "source": [
    "An app profile that would be recommended for in-ad revenue for free apps are a **FAMILY** category with genre of **GAMES** and **TOOLS** for productivity."
   ]
  },
  {
   "cell_type": "code",
   "execution_count": 21,
   "metadata": {},
   "outputs": [
    {
     "name": "stdout",
     "output_type": "stream",
     "text": [
      "Social Networking : 53078.195804195806\n",
      "Photo & Video : 27249.892215568863\n",
      "Games : 18924.68896765618\n",
      "Music : 56482.02985074627\n",
      "Reference : 67447.9\n",
      "Health & Fitness : 19952.315789473683\n",
      "Weather : 47220.93548387097\n",
      "Utilities : 14010.100917431193\n",
      "Travel : 20216.01785714286\n",
      "Shopping : 18746.677685950413\n",
      "News : 15892.724137931034\n",
      "Navigation : 25972.05\n",
      "Lifestyle : 8978.308510638299\n",
      "Entertainment : 10822.961077844311\n",
      "Food & Drink : 20179.093023255813\n",
      "Sports : 20128.974683544304\n",
      "Book : 8498.333333333334\n",
      "Finance : 13522.261904761905\n",
      "Education : 6266.333333333333\n",
      "Productivity : 19053.887096774193\n",
      "Business : 6367.8\n",
      "Catalogs : 1779.5555555555557\n",
      "Medical : 459.75\n"
     ]
    }
   ],
   "source": [
    "genres_ios = freq_table(ios_free, -5)\n",
    "\n",
    "for genre in genres_ios:        # We call the parent loop `genre`\n",
    "    total_rc      = 0             # so we can compare it with the data\n",
    "    len_genre     = 0               # and then we collect the `rating_count`\n",
    "    \n",
    "    for app in ios_free:\n",
    "        genre_app     = app[-5]\n",
    "        \n",
    "        if (genre_app == genre): # `genre` = The iteration variable\n",
    "                                           # of the main loop\n",
    "            rating_count  = float(app[5])\n",
    "            total_rc     += rating_count\n",
    "            len_genre    += 1\n",
    "    \n",
    "    # Keep in mind, we're still on the parent loop with 'genre'.\n",
    "    # And by that, the value of `total_rc` and `len_genre`\n",
    "    # for each `genre` is different.\n",
    "    \n",
    "    avg_rating_count = total_rc / len_genre    \n",
    "    print(genre, ':', avg_rating_count)"
   ]
  },
  {
   "cell_type": "markdown",
   "metadata": {},
   "source": [
    "Based on the number of user in App Store, we can recommend that the profile that needs more in-ads engagement for more revenue would be:\n",
    "* `Reference`, avg_users : 67447.9 users,\n",
    "* `Music`, avg_users : 56482.03 users, and\n",
    "* `Social Networking`, avg_users : 53078.2 users."
   ]
  },
  {
   "cell_type": "markdown",
   "metadata": {},
   "source": [
    "But.. what kind of `Reference` are these? We can look at the apps (will look for the solutions rq)"
   ]
  },
  {
   "cell_type": "markdown",
   "metadata": {},
   "source": [
    "..."
   ]
  },
  {
   "cell_type": "markdown",
   "metadata": {},
   "source": [
    "Well, what about the Google Play Store? We can utilize the data of `Installs` on index `5`."
   ]
  },
  {
   "cell_type": "code",
   "execution_count": 25,
   "metadata": {},
   "outputs": [
    {
     "name": "stdout",
     "output_type": "stream",
     "text": [
      "ART_AND_DESIGN : 1986335.0877192982\n",
      "AUTO_AND_VEHICLES : 647317.8170731707\n",
      "BEAUTY : 513151.88679245283\n",
      "BOOKS_AND_REFERENCE : 8767811.894736841\n",
      "BUSINESS : 1712290.1474201474\n",
      "COMICS : 817657.2727272727\n",
      "COMMUNICATION : 38456119.167247385\n",
      "DATING : 854028.8303030303\n",
      "EDUCATION : 1833495.145631068\n",
      "ENTERTAINMENT : 11640705.88235294\n",
      "EVENTS : 253542.22222222222\n",
      "FINANCE : 1387692.475609756\n",
      "FOOD_AND_DRINK : 1924897.7363636363\n",
      "HEALTH_AND_FITNESS : 4188821.9853479853\n",
      "HOUSE_AND_HOME : 1331540.5616438356\n",
      "LIBRARIES_AND_DEMO : 638503.734939759\n",
      "LIFESTYLE : 1437816.2687861272\n",
      "GAME : 15588015.603248259\n",
      "FAMILY : 3695641.8198090694\n",
      "MEDICAL : 120550.61980830671\n",
      "SOCIAL : 23253652.127118643\n",
      "SHOPPING : 7036877.311557789\n",
      "PHOTOGRAPHY : 17840110.40229885\n",
      "SPORTS : 3638640.1428571427\n",
      "TRAVEL_AND_LOCAL : 13984077.710144928\n",
      "TOOLS : 10801391.298666667\n",
      "PERSONALIZATION : 5201482.6122448975\n",
      "PRODUCTIVITY : 16787331.344927534\n",
      "PARENTING : 542603.6206896552\n",
      "WEATHER : 5074486.197183099\n",
      "VIDEO_PLAYERS : 24727872.452830188\n",
      "NEWS_AND_MAGAZINES : 9549178.467741935\n",
      "MAPS_AND_NAVIGATION : 4056941.7741935486\n"
     ]
    }
   ],
   "source": [
    "ctg_android = freq_table(android_free, 1)\n",
    "\n",
    "for ctg in ctg_android:\n",
    "    total_ctg = 0\n",
    "    len_ctg   = 0\n",
    "    \n",
    "    for app in android_free:\n",
    "        category_app = app[1]\n",
    "        \n",
    "        if category_app == ctg:\n",
    "            \n",
    "            n_installs = app[5]\n",
    "            \n",
    "            # Since the data in `Installs` are in `str`,\n",
    "            # we can replace the strings and make it into `float`\n",
    "            # by using built-in function `replace`.\n",
    "            n_installs = n_installs.replace(',', '')\n",
    "            n_installs = n_installs.replace('+', '')\n",
    "            total_ctg += float(n_installs)\n",
    "            len_ctg   += 1\n",
    "            \n",
    "    avg_n_installs = total_ctg / len_ctg\n",
    "    print(ctg, ':', avg_n_installs)"
   ]
  },
  {
   "cell_type": "markdown",
   "metadata": {},
   "source": [
    "As we can see, the top 5 apps installed by users are:\n",
    "* `VIDEO_PLAYERS`, avg_users = 24727872.45 users, \n",
    "* `SOCIAL`, avg_users = 23253652.13 users,\n",
    "* `PHOTOGRAPHY`, avg_users = 17840110.40 users,\n",
    "* `PRODUCTIVITY`, avg_users = 16787331.35 users, and\n",
    "* `GAME`, avg_users = 15588015.60 users"
   ]
  },
  {
   "cell_type": "markdown",
   "metadata": {},
   "source": [
    "Here are a few next steps you could take:\n",
    "\n",
    "* Analyze the frequency table for the Genre column of the Google Play dataset, and see if you can find useful patterns.\n",
    "* Assume we could also make revenue via in-app purchases and subscriptions, and try to determine which genres seem to be liked the most by users — you could examine app ratings here.\n",
    "* Refine your project using our data science project style guide."
   ]
  },
  {
   "cell_type": "markdown",
   "metadata": {},
   "source": [
    "If you're going to work on the next steps above independently, you'll almost inevitably face some problems like not knowing how to fix an error, or not knowing what code to write to perform a certain task. In situations like these, the best thing to do is to start with a Google search (or any other search engine). In most situations, there will always be people who already ran into the same kind of problem, and you'll be able to use the solution they came up with."
   ]
  },
  {
   "cell_type": "markdown",
   "metadata": {},
   "source": [
    "As you search for solutions to your problems, you'll notice that one particular site will constantly show up in the first few results of your query — Stack Overflow. The community on Stack Overflow is very active, and the answers you'll find there are almost always accurate and up-to-date. One important tip when you're searching on Google is to start with the word \"python\". For instance, if you want to find out how to remove the characters from a string, search for \"python how to remove a character from a string\" (not just \"how to remove a character from a string\") — otherwise you'll most likely get results for other programming languages."
   ]
  },
  {
   "cell_type": "code",
   "execution_count": null,
   "metadata": {},
   "outputs": [],
   "source": []
  }
 ],
 "metadata": {
  "kernelspec": {
   "display_name": "Python 3",
   "language": "python",
   "name": "python3"
  },
  "language_info": {
   "codemirror_mode": {
    "name": "ipython",
    "version": 3
   },
   "file_extension": ".py",
   "mimetype": "text/x-python",
   "name": "python",
   "nbconvert_exporter": "python",
   "pygments_lexer": "ipython3",
   "version": "3.8.2"
  }
 },
 "nbformat": 4,
 "nbformat_minor": 2
}
